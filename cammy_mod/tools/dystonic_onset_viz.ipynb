{
 "cells": [
  {
   "cell_type": "code",
   "execution_count": 221,
   "id": "83b4f390-c434-49e3-90aa-dda5427da0c9",
   "metadata": {},
   "outputs": [],
   "source": [
    "import numpy as np\n",
    "import cv2\n",
    "import os\n",
    "import pandas as pd\n",
    "from tqdm import tqdm\n",
    "import numpy as np\n",
    "from pathlib import Path\n",
    "import sys\n",
    "import matplotlib.pyplot as plt\n",
    "sys.path.append('/home/ahmad/projects/utils/')\n",
    "from custom_widgets import Browser"
   ]
  },
  {
   "cell_type": "code",
   "execution_count": 222,
   "id": "bd2c719c-5ef9-4217-aa06-c678885d0ffd",
   "metadata": {},
   "outputs": [
    {
     "data": {
      "application/vnd.jupyter.widget-view+json": {
       "model_id": "6cc6374efa8b43f3b4d4a8630d61f4ef",
       "version_major": 2,
       "version_minor": 0
      },
      "text/plain": [
       "VBox(children=(HBox(children=(Text(value='/data_sp/intercam/drd_behavior', description='Selected Path:', layou…"
      ]
     },
     "execution_count": 222,
     "metadata": {},
     "output_type": "execute_result"
    }
   ],
   "source": [
    "colormap = cv2.COLORMAP_TURBO\n",
    "browser = Browser(parent_path='/data_sp/intercam/drd_behavior')\n",
    "browser.show()"
   ]
  },
  {
   "cell_type": "code",
   "execution_count": 223,
   "id": "29644970-7bad-4fac-a78f-931c50569a92",
   "metadata": {},
   "outputs": [],
   "source": [
    "parent_dir = Path(browser.path_textbox.value)\n",
    "avi_filepaths = parent_dir.glob('*.avi')"
   ]
  },
  {
   "cell_type": "code",
   "execution_count": null,
   "id": "57763039-da3a-488d-bb07-d03ae9341760",
   "metadata": {},
   "outputs": [],
   "source": []
  },
  {
   "cell_type": "code",
   "execution_count": null,
   "id": "1873694e-96d1-418b-a0af-66f0fd2c1853",
   "metadata": {},
   "outputs": [],
   "source": []
  },
  {
   "cell_type": "code",
   "execution_count": null,
   "id": "f0bc30c9-a853-4131-80be-c4b36b7d90cf",
   "metadata": {},
   "outputs": [],
   "source": []
  },
  {
   "cell_type": "code",
   "execution_count": null,
   "id": "487e5688-61f6-49b8-9ab4-0a2c653cd119",
   "metadata": {},
   "outputs": [],
   "source": []
  },
  {
   "cell_type": "code",
   "execution_count": null,
   "id": "3ea1ff8a-1c32-4378-a3af-332786171710",
   "metadata": {},
   "outputs": [],
   "source": []
  },
  {
   "cell_type": "code",
   "execution_count": null,
   "id": "46af00d0-8d7e-48b7-9fe8-af94b7f5005e",
   "metadata": {},
   "outputs": [],
   "source": []
  },
  {
   "cell_type": "code",
   "execution_count": null,
   "id": "56c5347d-75f5-4001-b874-84d5578d14ac",
   "metadata": {},
   "outputs": [],
   "source": []
  },
  {
   "cell_type": "code",
   "execution_count": null,
   "id": "7bc72307-8289-41d2-8d15-fa569b85b36e",
   "metadata": {},
   "outputs": [],
   "source": []
  },
  {
   "cell_type": "code",
   "execution_count": 18,
   "id": "3c2f37f9-ada7-4b94-8afd-3330812e06ad",
   "metadata": {},
   "outputs": [
    {
     "name": "stdout",
     "output_type": "stream",
     "text": [
      "/data_sp/intercam/drd_behavior/m41(0)/none/none/drd_behavior_m41(0)_none_none_v2_300_300_12_20240424090035-845374/Lucid Vision Labs-HTP003S-001-240200702.txt\n",
      "/data_sp/intercam/drd_behavior/m41(0)/none/none/drd_behavior_m41(0)_none_none_v2_300_300_12_20240424090035-845374/FLIR-1E10011883A9-011883A9.txt\n",
      "/data_sp/intercam/drd_behavior/m41(0)/none/none/drd_behavior_m41(0)_none_none_v2_300_300_12_20240424090035-845374/FLIR-1E10011883A3-011883A3.txt\n",
      "/data_sp/intercam/drd_behavior/m41(0)/none/none/drd_behavior_m41(0)_none_none_v2_300_300_12_20240424090035-845374/use_input_ts.txt\n"
     ]
    }
   ],
   "source": [
    "parent_path = Path(browser.path_textbox.value)\n",
    "txt_filepaths = list(parent_path.glob('*.txt'))\n",
    "for i in txt_filepaths:\n",
    "    print(i)"
   ]
  },
  {
   "cell_type": "code",
   "execution_count": 14,
   "id": "d4284560-f1ba-4fa8-ba57-13a6a042f59d",
   "metadata": {},
   "outputs": [],
   "source": [
    "ts = [pd.read_csv(x.as_posix(), delimiter='\\t') for x in txt_filepaths]"
   ]
  },
  {
   "cell_type": "code",
   "execution_count": 15,
   "id": "9896477f-90fc-44a9-b956-b495f361aba3",
   "metadata": {},
   "outputs": [
    {
     "data": {
      "text/html": [
       "<div>\n",
       "<style scoped>\n",
       "    .dataframe tbody tr th:only-of-type {\n",
       "        vertical-align: middle;\n",
       "    }\n",
       "\n",
       "    .dataframe tbody tr th {\n",
       "        vertical-align: top;\n",
       "    }\n",
       "\n",
       "    .dataframe thead th {\n",
       "        text-align: right;\n",
       "    }\n",
       "</style>\n",
       "<table border=\"1\" class=\"dataframe\">\n",
       "  <thead>\n",
       "    <tr style=\"text-align: right;\">\n",
       "      <th></th>\n",
       "      <th>frame_id</th>\n",
       "      <th>device_timestamp</th>\n",
       "      <th>system_timestamp</th>\n",
       "      <th>Unnamed: 3</th>\n",
       "    </tr>\n",
       "  </thead>\n",
       "  <tbody>\n",
       "    <tr>\n",
       "      <th>0</th>\n",
       "      <td>1</td>\n",
       "      <td>661358437685272</td>\n",
       "      <td>1713963697558779000</td>\n",
       "      <td>NaN</td>\n",
       "    </tr>\n",
       "    <tr>\n",
       "      <th>1</th>\n",
       "      <td>2</td>\n",
       "      <td>661358470984312</td>\n",
       "      <td>1713963697703715000</td>\n",
       "      <td>NaN</td>\n",
       "    </tr>\n",
       "    <tr>\n",
       "      <th>2</th>\n",
       "      <td>6</td>\n",
       "      <td>661358604171992</td>\n",
       "      <td>1713963697725063000</td>\n",
       "      <td>NaN</td>\n",
       "    </tr>\n",
       "    <tr>\n",
       "      <th>3</th>\n",
       "      <td>7</td>\n",
       "      <td>661358637462552</td>\n",
       "      <td>1713963697758520000</td>\n",
       "      <td>NaN</td>\n",
       "    </tr>\n",
       "    <tr>\n",
       "      <th>4</th>\n",
       "      <td>8</td>\n",
       "      <td>661358670761592</td>\n",
       "      <td>1713963697791677000</td>\n",
       "      <td>NaN</td>\n",
       "    </tr>\n",
       "    <tr>\n",
       "      <th>...</th>\n",
       "      <td>...</td>\n",
       "      <td>...</td>\n",
       "      <td>...</td>\n",
       "      <td>...</td>\n",
       "    </tr>\n",
       "    <tr>\n",
       "      <th>18011</th>\n",
       "      <td>18015</td>\n",
       "      <td>661958237530872</td>\n",
       "      <td>1713964297358346000</td>\n",
       "      <td>NaN</td>\n",
       "    </tr>\n",
       "    <tr>\n",
       "      <th>18012</th>\n",
       "      <td>18016</td>\n",
       "      <td>661958270829912</td>\n",
       "      <td>1713964297391660000</td>\n",
       "      <td>NaN</td>\n",
       "    </tr>\n",
       "    <tr>\n",
       "      <th>18013</th>\n",
       "      <td>18017</td>\n",
       "      <td>661958304120472</td>\n",
       "      <td>1713964297424989000</td>\n",
       "      <td>NaN</td>\n",
       "    </tr>\n",
       "    <tr>\n",
       "      <th>18014</th>\n",
       "      <td>18018</td>\n",
       "      <td>661958337419512</td>\n",
       "      <td>1713964297458254000</td>\n",
       "      <td>NaN</td>\n",
       "    </tr>\n",
       "    <tr>\n",
       "      <th>18015</th>\n",
       "      <td>18019</td>\n",
       "      <td>661958370718552</td>\n",
       "      <td>1713964297491531000</td>\n",
       "      <td>NaN</td>\n",
       "    </tr>\n",
       "  </tbody>\n",
       "</table>\n",
       "<p>18016 rows × 4 columns</p>\n",
       "</div>"
      ],
      "text/plain": [
       "       frame_id  device_timestamp     system_timestamp  Unnamed: 3\n",
       "0             1   661358437685272  1713963697558779000         NaN\n",
       "1             2   661358470984312  1713963697703715000         NaN\n",
       "2             6   661358604171992  1713963697725063000         NaN\n",
       "3             7   661358637462552  1713963697758520000         NaN\n",
       "4             8   661358670761592  1713963697791677000         NaN\n",
       "...         ...               ...                  ...         ...\n",
       "18011     18015   661958237530872  1713964297358346000         NaN\n",
       "18012     18016   661958270829912  1713964297391660000         NaN\n",
       "18013     18017   661958304120472  1713964297424989000         NaN\n",
       "18014     18018   661958337419512  1713964297458254000         NaN\n",
       "18015     18019   661958370718552  1713964297491531000         NaN\n",
       "\n",
       "[18016 rows x 4 columns]"
      ]
     },
     "execution_count": 15,
     "metadata": {},
     "output_type": "execute_result"
    }
   ],
   "source": [
    "ts[0]"
   ]
  },
  {
   "cell_type": "code",
   "execution_count": 210,
   "id": "a009e1e0-cdcf-4989-b5ea-2ce1b5019db6",
   "metadata": {},
   "outputs": [],
   "source": [
    "system_ts = [x['system_timestamp'].T / 1e6 for x in ts[:3]]\n",
    "df = pd.DataFrame(system_ts)"
   ]
  },
  {
   "cell_type": "code",
   "execution_count": 212,
   "id": "8b5839f1-a686-44f4-92ca-7abfe1df7335",
   "metadata": {},
   "outputs": [],
   "source": []
  },
  {
   "cell_type": "code",
   "execution_count": 213,
   "id": "99ad05a8-17af-413b-bb5a-843e31170295",
   "metadata": {},
   "outputs": [],
   "source": [
    "df_subtracted = df.subtract(df.iloc[2])"
   ]
  },
  {
   "cell_type": "code",
   "execution_count": 214,
   "id": "5ad3601c-144d-48a6-bc26-0ea7b56c5e75",
   "metadata": {},
   "outputs": [
    {
     "data": {
      "text/html": [
       "<div>\n",
       "<style scoped>\n",
       "    .dataframe tbody tr th:only-of-type {\n",
       "        vertical-align: middle;\n",
       "    }\n",
       "\n",
       "    .dataframe tbody tr th {\n",
       "        vertical-align: top;\n",
       "    }\n",
       "\n",
       "    .dataframe thead th {\n",
       "        text-align: right;\n",
       "    }\n",
       "</style>\n",
       "<table border=\"1\" class=\"dataframe\">\n",
       "  <thead>\n",
       "    <tr style=\"text-align: right;\">\n",
       "      <th></th>\n",
       "      <th>0</th>\n",
       "      <th>1</th>\n",
       "      <th>2</th>\n",
       "      <th>3</th>\n",
       "      <th>4</th>\n",
       "      <th>5</th>\n",
       "      <th>6</th>\n",
       "      <th>7</th>\n",
       "      <th>8</th>\n",
       "      <th>9</th>\n",
       "      <th>...</th>\n",
       "      <th>18009</th>\n",
       "      <th>18010</th>\n",
       "      <th>18011</th>\n",
       "      <th>18012</th>\n",
       "      <th>18013</th>\n",
       "      <th>18014</th>\n",
       "      <th>18015</th>\n",
       "      <th>18016</th>\n",
       "      <th>18017</th>\n",
       "      <th>18018</th>\n",
       "    </tr>\n",
       "  </thead>\n",
       "  <tbody>\n",
       "    <tr>\n",
       "      <th>system_timestamp</th>\n",
       "      <td>NaN</td>\n",
       "      <td>NaN</td>\n",
       "      <td>NaN</td>\n",
       "      <td>-145.502197</td>\n",
       "      <td>-1.336914</td>\n",
       "      <td>4.289062</td>\n",
       "      <td>1.685059</td>\n",
       "      <td>4.325928</td>\n",
       "      <td>4.332031</td>\n",
       "      <td>4.351318</td>\n",
       "      <td>...</td>\n",
       "      <td>4.331055</td>\n",
       "      <td>4.51709</td>\n",
       "      <td>4.364014</td>\n",
       "      <td>4.368896</td>\n",
       "      <td>4.375977</td>\n",
       "      <td>4.324707</td>\n",
       "      <td>4.336914</td>\n",
       "      <td>4.371094</td>\n",
       "      <td>4.341064</td>\n",
       "      <td>4.304932</td>\n",
       "    </tr>\n",
       "    <tr>\n",
       "      <th>system_timestamp</th>\n",
       "      <td>0.030762</td>\n",
       "      <td>0.003906</td>\n",
       "      <td>0.034912</td>\n",
       "      <td>-0.240967</td>\n",
       "      <td>-0.572998</td>\n",
       "      <td>-0.006836</td>\n",
       "      <td>4.197998</td>\n",
       "      <td>0.004883</td>\n",
       "      <td>0.000977</td>\n",
       "      <td>0.000000</td>\n",
       "      <td>...</td>\n",
       "      <td>-0.018799</td>\n",
       "      <td>0.01001</td>\n",
       "      <td>0.000977</td>\n",
       "      <td>0.014160</td>\n",
       "      <td>0.000000</td>\n",
       "      <td>0.047852</td>\n",
       "      <td>0.000000</td>\n",
       "      <td>0.008057</td>\n",
       "      <td>0.000000</td>\n",
       "      <td>0.000000</td>\n",
       "    </tr>\n",
       "    <tr>\n",
       "      <th>system_timestamp</th>\n",
       "      <td>0.000000</td>\n",
       "      <td>0.000000</td>\n",
       "      <td>0.000000</td>\n",
       "      <td>0.000000</td>\n",
       "      <td>0.000000</td>\n",
       "      <td>0.000000</td>\n",
       "      <td>0.000000</td>\n",
       "      <td>0.000000</td>\n",
       "      <td>0.000000</td>\n",
       "      <td>0.000000</td>\n",
       "      <td>...</td>\n",
       "      <td>0.000000</td>\n",
       "      <td>0.00000</td>\n",
       "      <td>0.000000</td>\n",
       "      <td>0.000000</td>\n",
       "      <td>0.000000</td>\n",
       "      <td>0.000000</td>\n",
       "      <td>0.000000</td>\n",
       "      <td>0.000000</td>\n",
       "      <td>0.000000</td>\n",
       "      <td>0.000000</td>\n",
       "    </tr>\n",
       "  </tbody>\n",
       "</table>\n",
       "<p>3 rows × 18019 columns</p>\n",
       "</div>"
      ],
      "text/plain": [
       "                     0         1         2           3         4      \\\n",
       "system_timestamp       NaN       NaN       NaN -145.502197 -1.336914   \n",
       "system_timestamp  0.030762  0.003906  0.034912   -0.240967 -0.572998   \n",
       "system_timestamp  0.000000  0.000000  0.000000    0.000000  0.000000   \n",
       "\n",
       "                     5         6         7         8         9      ...  \\\n",
       "system_timestamp  4.289062  1.685059  4.325928  4.332031  4.351318  ...   \n",
       "system_timestamp -0.006836  4.197998  0.004883  0.000977  0.000000  ...   \n",
       "system_timestamp  0.000000  0.000000  0.000000  0.000000  0.000000  ...   \n",
       "\n",
       "                     18009    18010     18011     18012     18013     18014  \\\n",
       "system_timestamp  4.331055  4.51709  4.364014  4.368896  4.375977  4.324707   \n",
       "system_timestamp -0.018799  0.01001  0.000977  0.014160  0.000000  0.047852   \n",
       "system_timestamp  0.000000  0.00000  0.000000  0.000000  0.000000  0.000000   \n",
       "\n",
       "                     18015     18016     18017     18018  \n",
       "system_timestamp  4.336914  4.371094  4.341064  4.304932  \n",
       "system_timestamp  0.000000  0.008057  0.000000  0.000000  \n",
       "system_timestamp  0.000000  0.000000  0.000000  0.000000  \n",
       "\n",
       "[3 rows x 18019 columns]"
      ]
     },
     "execution_count": 214,
     "metadata": {},
     "output_type": "execute_result"
    }
   ],
   "source": [
    "df_subtracted"
   ]
  },
  {
   "cell_type": "code",
   "execution_count": 191,
   "id": "ea6cd996-eaf6-40c6-a91c-f5638917c840",
   "metadata": {},
   "outputs": [
    {
     "name": "stdout",
     "output_type": "stream",
     "text": [
      "111.104736328125\n"
     ]
    }
   ],
   "source": [
    "x = np.abs(df_subtracted.iloc[1]).sum()\n",
    "print(x)"
   ]
  },
  {
   "cell_type": "code",
   "execution_count": 187,
   "id": "558191da-3290-4c6c-ac7d-abdaf2df4e9f",
   "metadata": {},
   "outputs": [],
   "source": [
    "delays.append(x)"
   ]
  },
  {
   "cell_type": "code",
   "execution_count": 188,
   "id": "9e078ae7-ad60-408c-a92b-a3c8fa8ce70d",
   "metadata": {},
   "outputs": [
    {
     "data": {
      "text/plain": [
       "[1877809.2006835938,\n",
       " 1278000.3771972656,\n",
       " 678367.3801269531,\n",
       " 78586.59399414062,\n",
       " 521494.3342285156]"
      ]
     },
     "execution_count": 188,
     "metadata": {},
     "output_type": "execute_result"
    }
   ],
   "source": [
    "delays"
   ]
  },
  {
   "cell_type": "code",
   "execution_count": 215,
   "id": "2e052bbc-cdea-4692-bd14-91a561efd2aa",
   "metadata": {},
   "outputs": [],
   "source": [
    "import matplotlib.pyplot as plt"
   ]
  },
  {
   "cell_type": "code",
   "execution_count": 217,
   "id": "e716be6b-1a3b-46e4-a0b5-8a36efed6e18",
   "metadata": {},
   "outputs": [
    {
     "data": {
      "text/plain": [
       "(0.0, 10.0)"
      ]
     },
     "execution_count": 217,
     "metadata": {},
     "output_type": "execute_result"
    },
    {
     "data": {
      "image/png": "[encoded data removed]",
      "text/plain": [
       "<Figure size 640x480 with 1 Axes>"
      ]
     },
     "metadata": {},
     "output_type": "display_data"
    }
   ],
   "source": [
    "\n",
    "plt.plot(df_subtracted.iloc[0].values)\n",
    "plt.ylim([0,10])"
   ]
  },
  {
   "cell_type": "code",
   "execution_count": null,
   "id": "72cafd91-f103-4778-8dbc-42750c6596a6",
   "metadata": {},
   "outputs": [],
   "source": []
  }
 ],
 "metadata": {
  "kernelspec": {
   "display_name": "Python 3 (ipykernel)",
   "language": "python",
   "name": "python3"
  },
  "language_info": {
   "codemirror_mode": {
    "name": "ipython",
    "version": 3
   },
   "file_extension": ".py",
   "mimetype": "text/x-python",
   "name": "python",
   "nbconvert_exporter": "python",
   "pygments_lexer": "ipython3",
   "version": "3.9.18"
  }
 },
 "nbformat": 4,
 "nbformat_minor": 5
}
